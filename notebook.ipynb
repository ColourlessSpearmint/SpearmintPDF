{
  "nbformat": 4,
  "nbformat_minor": 0,
  "metadata": {
    "colab": {
      "private_outputs": true,
      "provenance": [],
      "authorship_tag": "ABX9TyOoYat6y2u9t8hxGTkUyLSI"
    },
    "kernelspec": {
      "name": "python3",
      "display_name": "Python 3"
    },
    "language_info": {
      "name": "python"
    }
  },
  "cells": [
    {
      "cell_type": "code",
      "execution_count": null,
      "metadata": {
        "id": "R4Ttq2B7iGq2"
      },
      "outputs": [],
      "source": [
        "# Install necessary packages\n",
        "!apt-get install -y wkhtmltopdf\n",
        "!pip install pdfkit\n",
        "\n",
        "import pdfkit\n",
        "from google.colab import files\n",
        "\n",
        "# Function to convert a webpage to a PDF\n",
        "def webpage_to_pdf(url, save_as):\n",
        "    try:\n",
        "        # Convert the webpage to a PDF\n",
        "        pdfkit.from_url(url, save_as)\n",
        "        print(f\"Webpage successfully converted to PDF and saved as '{save_as}'.\")\n",
        "\n",
        "        # Provide the file for download\n",
        "        files.download(save_as)\n",
        "    except Exception as e:\n",
        "        print(f\"An error occurred: {e}\")\n",
        "\n",
        "# Example usage\n",
        "webpage_url = \"https://example.com\"  # Replace with your desired webpage URL\n",
        "save_name = \"webpage.pdf\"  # Change this to your desired filename\n",
        "webpage_to_pdf(webpage_url, save_name)\n"
      ]
    }
  ]
}