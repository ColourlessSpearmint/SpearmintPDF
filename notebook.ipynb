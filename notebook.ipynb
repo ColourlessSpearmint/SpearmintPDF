{
  "cells": [
    {
      "cell_type": "code",
      "execution_count": null,
      "metadata": {
        "id": "R4Ttq2B7iGq2"
      },
      "outputs": [],
      "source": [
        "# Import os to install packages\n",
        "import os\n",
        "\n",
        "# Install necessary packages silently\n",
        "os.system(\"apt-get install -y wkhtmltopdf > /dev/null 2>&1\")\n",
        "os.system(\"pip install pdfkit > /dev/null 2>&1\")\n",
        "\n",
        "# Import libraries\n",
        "import sys\n",
        "import time\n",
        "from IPython.display import display, HTML\n",
        "import pdfkit\n",
        "from google.colab import files\n",
        "\n",
        "# Function to show a simple progress throbber\n",
        "def show_progress(message=\"Processing\"):\n",
        "    throbber = [\"|\", \"/\", \"-\", \"\\\\\"]\n",
        "    for _ in range(10):\n",
        "        for t in throbber:\n",
        "            sys.stdout.write(f\"\\r{message}... {t}\")\n",
        "            sys.stdout.flush()\n",
        "            time.sleep(0.2)\n",
        "    print(\"\\rDone!                      \")\n",
        "\n",
        "# Function to convert a webpage to a PDF\n",
        "def webpage_to_pdf(url, save_as):\n",
        "    try:\n",
        "        show_progress(\"Converting webpage to PDF\")\n",
        "        \n",
        "        # Convert the webpage to a PDF\n",
        "        pdfkit.from_url(url, save_as)\n",
        "        print(f\"Webpage successfully converted to PDF and saved as '{save_as}'.\")\n",
        "        \n",
        "        # Provide the file for download\n",
        "        files.download(save_as)\n",
        "    except Exception as e:\n",
        "        print(f\"An error occurred: {e}\")\n",
        "\n",
        "# Example usage\n",
        "webpage_url = \"https://example.com\"  # Replace with your desired webpage URL\n",
        "save_name = \"webpage.pdf\"  # Change this to your desired filename\n",
        "webpage_to_pdf(webpage_url, save_name)"
      ]
    }
  ],
  "metadata": {
    "colab": {
      "authorship_tag": "ABX9TyOoYat6y2u9t8hxGTkUyLSI",
      "private_outputs": true,
      "provenance": []
    },
    "kernelspec": {
      "display_name": "Python 3",
      "name": "python3"
    },
    "language_info": {
      "name": "python"
    }
  },
  "nbformat": 4,
  "nbformat_minor": 0
}
